{
  "nbformat": 4,
  "nbformat_minor": 0,
  "metadata": {
    "colab": {
      "provenance": []
    },
    "kernelspec": {
      "name": "python3",
      "display_name": "Python 3"
    },
    "language_info": {
      "name": "python"
    }
  },
  "cells": [
    {
      "cell_type": "code",
      "execution_count": 1,
      "metadata": {
        "id": "dSbav38tTiUz"
      },
      "outputs": [],
      "source": [
        "from pyspark.sql import SparkSession\n",
        "\n",
        "spark = SparkSession.builder \\\n",
        "    .appName(\"Covid Data Analysis\") \\\n",
        "    .getOrCreate()\n"
      ]
    },
    {
      "cell_type": "code",
      "source": [
        "df = spark.read.csv('/content/DataSheet.csv', header=True, inferSchema=True)\n",
        "df.show(5)\n"
      ],
      "metadata": {
        "colab": {
          "base_uri": "https://localhost:8080/"
        },
        "id": "PIBgaFhzTwbP",
        "outputId": "4ffe1da8-72d5-481d-98fd-6891965540e5"
      },
      "execution_count": 2,
      "outputs": [
        {
          "output_type": "stream",
          "name": "stdout",
          "text": [
            "+--------+---------+-----------+-------------+-----------+------------+------------------+-----------------+----------+------------+------------+---------------------+-------------------+\n",
            "|iso_code|continent|   location|date_current*|total_cases|total_deaths|total_vaccinations|people_vaccinated|median_age|age_65_older|age_70_older|cardiovasc_death_rate|diabetes_prevalence|\n",
            "+--------+---------+-----------+-------------+-----------+------------+------------------+-----------------+----------+------------+------------+---------------------+-------------------+\n",
            "|     AFG|     Asia|Afghanistan|   10-01-2020|      39285|        1460|              NULL|             NULL|      18.6|       2.581|       1.337|              597.029|               9.59|\n",
            "|     AFG|     Asia|Afghanistan|   10-02-2020|      39290|        1460|              NULL|             NULL|      18.6|       2.581|       1.337|              597.029|               9.59|\n",
            "|     AFG|     Asia|Afghanistan|   10-03-2020|      39297|        1464|              NULL|             NULL|      18.6|       2.581|       1.337|              597.029|               9.59|\n",
            "|     AFG|     Asia|Afghanistan|   10-04-2020|      39341|        1464|              NULL|             NULL|      18.6|       2.581|       1.337|              597.029|               9.59|\n",
            "|     AFG|     Asia|Afghanistan|   10-05-2020|      39422|        1468|              NULL|             NULL|      18.6|       2.581|       1.337|              597.029|               9.59|\n",
            "+--------+---------+-----------+-------------+-----------+------------+------------------+-----------------+----------+------------+------------+---------------------+-------------------+\n",
            "only showing top 5 rows\n",
            "\n"
          ]
        }
      ]
    },
    {
      "cell_type": "markdown",
      "source": [
        "1.Create RDDs and DataFrames needed to perform the below operations"
      ],
      "metadata": {
        "id": "oTnuwUrBcFoz"
      }
    },
    {
      "cell_type": "code",
      "source": [
        "rdd = spark.sparkContext.textFile('/content/DataSheet.csv')\n",
        "header = rdd.first()  # Get header row\n",
        "data_rdd = rdd.filter(lambda x: x != header).map(lambda x: x.split(','))\n"
      ],
      "metadata": {
        "id": "BI_PgD-ocGsN"
      },
      "execution_count": 21,
      "outputs": []
    },
    {
      "cell_type": "code",
      "source": [
        "# Filter out rows where x[4] is empty or not a valid float\n",
        "filtered_rdd = data_rdd.filter(lambda x: x[4].strip() != '')\n",
        "\n",
        "# Map and reduce operations\n",
        "continent_rdd = filtered_rdd.map(lambda x: (x[1], float(x[4])))  # (continent, total_cases)\n",
        "continent_total_cases = continent_rdd.reduceByKey(lambda a, b: a + b)\n",
        "\n",
        "# Collect the results\n",
        "result = continent_total_cases.collect()\n",
        "print(result)\n"
      ],
      "metadata": {
        "colab": {
          "base_uri": "https://localhost:8080/"
        },
        "id": "2Fwgf2f2coi8",
        "outputId": "115215f6-605b-4595-9cc8-80db9ddba295"
      },
      "execution_count": 23,
      "outputs": [
        {
          "output_type": "stream",
          "name": "stdout",
          "text": [
            "[('Asia', 2134990087.0), ('', 8190091253.0), ('Europe', 2155273358.0), ('Africa', 288867928.0), ('North America', 2176243155.0), ('South America', 1430718441.0), ('Oceania', 3819476.0)]\n"
          ]
        }
      ]
    },
    {
      "cell_type": "markdown",
      "source": [
        "2.Find the Total Number of Cases in Each Continent\n"
      ],
      "metadata": {
        "id": "2TqpKC0lUUoA"
      }
    },
    {
      "cell_type": "code",
      "source": [
        "df.groupBy('continent').agg({'total_cases': 'sum'}).show()\n"
      ],
      "metadata": {
        "colab": {
          "base_uri": "https://localhost:8080/"
        },
        "id": "cuPULk5SUVXK",
        "outputId": "818d7ab4-47ac-47dc-d597-6ea5d3d3e245"
      },
      "execution_count": 3,
      "outputs": [
        {
          "output_type": "stream",
          "name": "stdout",
          "text": [
            "+-------------+----------------+\n",
            "|    continent|sum(total_cases)|\n",
            "+-------------+----------------+\n",
            "|       Europe|      2155273358|\n",
            "|       Africa|       288867928|\n",
            "|         NULL|      8190091253|\n",
            "|North America|      2176243155|\n",
            "|South America|      1430718441|\n",
            "|      Oceania|         3819476|\n",
            "|         Asia|      2134990087|\n",
            "+-------------+----------------+\n",
            "\n"
          ]
        }
      ]
    },
    {
      "cell_type": "markdown",
      "source": [
        "3.Find the Total Number of Deaths in Each Location"
      ],
      "metadata": {
        "id": "mScG3k_jUcFW"
      }
    },
    {
      "cell_type": "code",
      "source": [
        "df.groupBy('location').agg({'total_deaths': 'sum'}).show()\n"
      ],
      "metadata": {
        "colab": {
          "base_uri": "https://localhost:8080/"
        },
        "id": "0rk1tweUUcnC",
        "outputId": "df22a503-032e-4bea-f5ab-e8c6c879aba2"
      },
      "execution_count": 4,
      "outputs": [
        {
          "output_type": "stream",
          "name": "stdout",
          "text": [
            "+-------------+-----------------+\n",
            "|     location|sum(total_deaths)|\n",
            "+-------------+-----------------+\n",
            "|         Chad|            12598|\n",
            "|     Paraguay|           225768|\n",
            "|       Russia|          5291911|\n",
            "|International|             1860|\n",
            "|        World|        190245307|\n",
            "|        Yemen|            74938|\n",
            "|      Senegal|            47413|\n",
            "|       Sweden|           947159|\n",
            "|       Guyana|            17812|\n",
            "|      Eritrea|              191|\n",
            "|  Philippines|          1026379|\n",
            "|     Djibouti|             7573|\n",
            "|     Malaysia|            47518|\n",
            "|    Singapore|             3527|\n",
            "|         Fiji|              248|\n",
            "|       Turkey|          1933353|\n",
            "|       Malawi|            28696|\n",
            "|         Iraq|          1468363|\n",
            "|      Germany|          2947404|\n",
            "|      Comoros|             2139|\n",
            "+-------------+-----------------+\n",
            "only showing top 20 rows\n",
            "\n"
          ]
        }
      ]
    },
    {
      "cell_type": "markdown",
      "source": [
        "4.Compute the Maximum Deaths in Specific Locations (Europe and Asia)"
      ],
      "metadata": {
        "id": "i8nS1UWYUhYN"
      }
    },
    {
      "cell_type": "code",
      "source": [
        "df.filter(df['continent'] == 'Europe').agg({'total_deaths': 'max'}).show()\n",
        "df.filter(df['continent'] == 'Asia').agg({'total_deaths': 'max'}).show()\n"
      ],
      "metadata": {
        "colab": {
          "base_uri": "https://localhost:8080/"
        },
        "id": "pE99Kz_fUiQj",
        "outputId": "66e6852b-6ea3-48d8-fcbc-b024e1b78c80"
      },
      "execution_count": 5,
      "outputs": [
        {
          "output_type": "stream",
          "name": "stdout",
          "text": [
            "+-----------------+\n",
            "|max(total_deaths)|\n",
            "+-----------------+\n",
            "|           106774|\n",
            "+-----------------+\n",
            "\n",
            "+-----------------+\n",
            "|max(total_deaths)|\n",
            "+-----------------+\n",
            "|           154486|\n",
            "+-----------------+\n",
            "\n"
          ]
        }
      ]
    },
    {
      "cell_type": "markdown",
      "source": [
        "5.Find the Total Number of People Vaccinated at Each Continent"
      ],
      "metadata": {
        "id": "bahEY_50Un2s"
      }
    },
    {
      "cell_type": "code",
      "source": [
        "df.groupBy('continent').agg({'people_vaccinated': 'sum'}).show()\n"
      ],
      "metadata": {
        "colab": {
          "base_uri": "https://localhost:8080/"
        },
        "id": "1sFLAwJbUoVl",
        "outputId": "ce26c09d-a3a3-42be-fd04-06c1a83b11b0"
      },
      "execution_count": 6,
      "outputs": [
        {
          "output_type": "stream",
          "name": "stdout",
          "text": [
            "+-------------+----------------------+\n",
            "|    continent|sum(people_vaccinated)|\n",
            "+-------------+----------------------+\n",
            "|       Europe|             267453341|\n",
            "|       Africa|                  NULL|\n",
            "|         NULL|             855976224|\n",
            "|North America|             338702417|\n",
            "|South America|              17349570|\n",
            "|      Oceania|                  NULL|\n",
            "|         Asia|             122587289|\n",
            "+-------------+----------------------+\n",
            "\n"
          ]
        }
      ]
    },
    {
      "cell_type": "markdown",
      "source": [
        "6.Find the Count of Country-wise Vaccinations for the Month of January 2021"
      ],
      "metadata": {
        "id": "jShnlKDEUsoO"
      }
    },
    {
      "cell_type": "code",
      "source": [
        "spark.conf.set(\"spark.sql.legacy.timeParserPolicy\", \"LEGACY\")\n"
      ],
      "metadata": {
        "id": "tIVCivzWbWg_"
      },
      "execution_count": 17,
      "outputs": []
    },
    {
      "cell_type": "code",
      "source": [
        "from pyspark.sql.functions import to_date, col\n",
        "\n",
        "# Adjust the policy for parsing\n",
        "spark.conf.set(\"spark.sql.legacy.timeParserPolicy\", \"LEGACY\")\n",
        "\n",
        "# Convert to date with proper handling\n",
        "df = df.withColumn('date_current*', to_date(col('date_current*'), 'M/d/yyyy'))\n",
        "\n",
        "# Filter for January 2021 and aggregate\n",
        "result = df.filter((df['date_current*'] >= '2021-01-01') & (df['date_current*'] <= '2021-01-31')) \\\n",
        "           .groupBy('location') \\\n",
        "           .agg({'people_vaccinated': 'sum'})\n",
        "\n",
        "result.show()\n"
      ],
      "metadata": {
        "colab": {
          "base_uri": "https://localhost:8080/"
        },
        "id": "bQFfq-fXbaju",
        "outputId": "a4b2fa8e-cf4a-478a-86d4-75008bd506b8"
      },
      "execution_count": 19,
      "outputs": [
        {
          "output_type": "stream",
          "name": "stdout",
          "text": [
            "+-------------+----------------------+\n",
            "|     location|sum(people_vaccinated)|\n",
            "+-------------+----------------------+\n",
            "|         Chad|                  NULL|\n",
            "|     Paraguay|                  NULL|\n",
            "|       Russia|                  NULL|\n",
            "|International|                  NULL|\n",
            "|        World|             687183058|\n",
            "|        Yemen|                  NULL|\n",
            "|      Senegal|                  NULL|\n",
            "|       Sweden|                725177|\n",
            "|       Guyana|                  NULL|\n",
            "|      Eritrea|                  NULL|\n",
            "|  Philippines|                  NULL|\n",
            "|     Djibouti|                  NULL|\n",
            "|     Malaysia|                  NULL|\n",
            "|    Singapore|                328000|\n",
            "|         Fiji|                  NULL|\n",
            "|       Turkey|                  NULL|\n",
            "|       Malawi|                  NULL|\n",
            "|         Iraq|                  NULL|\n",
            "|      Germany|              27938612|\n",
            "|      Comoros|                  NULL|\n",
            "+-------------+----------------------+\n",
            "only showing top 20 rows\n",
            "\n"
          ]
        }
      ]
    },
    {
      "cell_type": "markdown",
      "source": [
        "7.What is the Average Number of Total Cases Across All Locations?"
      ],
      "metadata": {
        "id": "Xxd_PBC_ZQwa"
      }
    },
    {
      "cell_type": "code",
      "source": [
        "df.agg({'total_cases': 'avg'}).show()\n"
      ],
      "metadata": {
        "colab": {
          "base_uri": "https://localhost:8080/"
        },
        "id": "wGFyFgHGZRcm",
        "outputId": "9f5d00a2-6681-41bd-da09-34258943a72b"
      },
      "execution_count": 10,
      "outputs": [
        {
          "output_type": "stream",
          "name": "stdout",
          "text": [
            "+-----------------+\n",
            "| avg(total_cases)|\n",
            "+-----------------+\n",
            "|695069.3243656114|\n",
            "+-----------------+\n",
            "\n"
          ]
        }
      ]
    },
    {
      "cell_type": "markdown",
      "source": [
        "8.Which Continent Has the Highest Total Number of Vaccinations?"
      ],
      "metadata": {
        "id": "olmjsR97ZWlE"
      }
    },
    {
      "cell_type": "code",
      "source": [
        "df.groupBy('continent').agg({'people_vaccinated': 'sum'}) \\\n",
        "    .orderBy('sum(people_vaccinated)', ascending=False) \\\n",
        "    .show(1)\n"
      ],
      "metadata": {
        "colab": {
          "base_uri": "https://localhost:8080/"
        },
        "id": "kKUUtOhuZXHJ",
        "outputId": "f7863188-0292-4177-e715-4024576a6fce"
      },
      "execution_count": 11,
      "outputs": [
        {
          "output_type": "stream",
          "name": "stdout",
          "text": [
            "+---------+----------------------+\n",
            "|continent|sum(people_vaccinated)|\n",
            "+---------+----------------------+\n",
            "|     NULL|             855976224|\n",
            "+---------+----------------------+\n",
            "only showing top 1 row\n",
            "\n"
          ]
        }
      ]
    },
    {
      "cell_type": "markdown",
      "source": [
        "9.Extract the Year, Month, and Day from the date_current Column"
      ],
      "metadata": {
        "id": "o8MCaWMEZb9J"
      }
    },
    {
      "cell_type": "code",
      "source": [
        "from pyspark.sql.functions import year, month, dayofmonth\n",
        "\n",
        "df = df.withColumn('year', year(df['date_current*'])) \\\n",
        "       .withColumn('month', month(df['date_current*'])) \\\n",
        "       .withColumn('day', dayofmonth(df['date_current*']))\n",
        "\n",
        "df.show(100)\n"
      ],
      "metadata": {
        "colab": {
          "base_uri": "https://localhost:8080/"
        },
        "id": "RxsM4dYtZcwx",
        "outputId": "74cc6828-4fab-446c-8ade-73c9ff5d87f4"
      },
      "execution_count": 13,
      "outputs": [
        {
          "output_type": "stream",
          "name": "stdout",
          "text": [
            "+--------+---------+-----------+-------------+-----------+------------+------------------+-----------------+----------+------------+------------+---------------------+-------------------+----+-----+----+\n",
            "|iso_code|continent|   location|date_current*|total_cases|total_deaths|total_vaccinations|people_vaccinated|median_age|age_65_older|age_70_older|cardiovasc_death_rate|diabetes_prevalence|year|month| day|\n",
            "+--------+---------+-----------+-------------+-----------+------------+------------------+-----------------+----------+------------+------------+---------------------+-------------------+----+-----+----+\n",
            "|     AFG|     Asia|Afghanistan|         NULL|      39285|        1460|              NULL|             NULL|      18.6|       2.581|       1.337|              597.029|               9.59|NULL| NULL|NULL|\n",
            "|     AFG|     Asia|Afghanistan|         NULL|      39290|        1460|              NULL|             NULL|      18.6|       2.581|       1.337|              597.029|               9.59|NULL| NULL|NULL|\n",
            "|     AFG|     Asia|Afghanistan|         NULL|      39297|        1464|              NULL|             NULL|      18.6|       2.581|       1.337|              597.029|               9.59|NULL| NULL|NULL|\n",
            "|     AFG|     Asia|Afghanistan|         NULL|      39341|        1464|              NULL|             NULL|      18.6|       2.581|       1.337|              597.029|               9.59|NULL| NULL|NULL|\n",
            "|     AFG|     Asia|Afghanistan|         NULL|      39422|        1468|              NULL|             NULL|      18.6|       2.581|       1.337|              597.029|               9.59|NULL| NULL|NULL|\n",
            "|     AFG|     Asia|Afghanistan|         NULL|      39486|        1469|              NULL|             NULL|      18.6|       2.581|       1.337|              597.029|               9.59|NULL| NULL|NULL|\n",
            "|     AFG|     Asia|Afghanistan|         NULL|      39548|        1471|              NULL|             NULL|      18.6|       2.581|       1.337|              597.029|               9.59|NULL| NULL|NULL|\n",
            "|     AFG|     Asia|Afghanistan|         NULL|      39616|        1472|              NULL|             NULL|      18.6|       2.581|       1.337|              597.029|               9.59|NULL| NULL|NULL|\n",
            "|     AFG|     Asia|Afghanistan|         NULL|      39693|        1474|              NULL|             NULL|      18.6|       2.581|       1.337|              597.029|               9.59|NULL| NULL|NULL|\n",
            "|     AFG|     Asia|Afghanistan|         NULL|      39703|        1475|              NULL|             NULL|      18.6|       2.581|       1.337|              597.029|               9.59|NULL| NULL|NULL|\n",
            "|     AFG|     Asia|Afghanistan|         NULL|      39799|        1479|              NULL|             NULL|      18.6|       2.581|       1.337|              597.029|               9.59|NULL| NULL|NULL|\n",
            "|     AFG|     Asia|Afghanistan|         NULL|      39870|        1481|              NULL|             NULL|      18.6|       2.581|       1.337|              597.029|               9.59|NULL| NULL|NULL|\n",
            "|     AFG|     Asia|Afghanistan|   2020-10-13|      39928|        1482|              NULL|             NULL|      18.6|       2.581|       1.337|              597.029|               9.59|2020|   10|  13|\n",
            "|     AFG|     Asia|Afghanistan|   2020-10-14|      39994|        1483|              NULL|             NULL|      18.6|       2.581|       1.337|              597.029|               9.59|2020|   10|  14|\n",
            "|     AFG|     Asia|Afghanistan|   2020-10-15|      40026|        1483|              NULL|             NULL|      18.6|       2.581|       1.337|              597.029|               9.59|2020|   10|  15|\n",
            "|     AFG|     Asia|Afghanistan|   2020-10-16|      40088|        1487|              NULL|             NULL|      18.6|       2.581|       1.337|              597.029|               9.59|2020|   10|  16|\n",
            "|     AFG|     Asia|Afghanistan|   2020-10-17|      40141|        1490|              NULL|             NULL|      18.6|       2.581|       1.337|              597.029|               9.59|2020|   10|  17|\n",
            "|     AFG|     Asia|Afghanistan|   2020-10-18|      40200|        1494|              NULL|             NULL|      18.6|       2.581|       1.337|              597.029|               9.59|2020|   10|  18|\n",
            "|     AFG|     Asia|Afghanistan|   2020-10-19|      40287|        1499|              NULL|             NULL|      18.6|       2.581|       1.337|              597.029|               9.59|2020|   10|  19|\n",
            "|     AFG|     Asia|Afghanistan|   2020-10-20|      40369|        1501|              NULL|             NULL|      18.6|       2.581|       1.337|              597.029|               9.59|2020|   10|  20|\n",
            "|     AFG|     Asia|Afghanistan|   2020-10-21|      40510|        1503|              NULL|             NULL|      18.6|       2.581|       1.337|              597.029|               9.59|2020|   10|  21|\n",
            "|     AFG|     Asia|Afghanistan|   2020-10-22|      40626|        1507|              NULL|             NULL|      18.6|       2.581|       1.337|              597.029|               9.59|2020|   10|  22|\n",
            "|     AFG|     Asia|Afghanistan|   2020-10-23|      40687|        1509|              NULL|             NULL|      18.6|       2.581|       1.337|              597.029|               9.59|2020|   10|  23|\n",
            "|     AFG|     Asia|Afghanistan|   2020-10-24|      40768|        1513|              NULL|             NULL|      18.6|       2.581|       1.337|              597.029|               9.59|2020|   10|  24|\n",
            "|     AFG|     Asia|Afghanistan|   2020-10-25|      40833|        1516|              NULL|             NULL|      18.6|       2.581|       1.337|              597.029|               9.59|2020|   10|  25|\n",
            "|     AFG|     Asia|Afghanistan|   2020-10-26|      40937|        1520|              NULL|             NULL|      18.6|       2.581|       1.337|              597.029|               9.59|2020|   10|  26|\n",
            "|     AFG|     Asia|Afghanistan|   2020-10-27|      41032|        1525|              NULL|             NULL|      18.6|       2.581|       1.337|              597.029|               9.59|2020|   10|  27|\n",
            "|     AFG|     Asia|Afghanistan|   2020-10-28|      41145|        1531|              NULL|             NULL|      18.6|       2.581|       1.337|              597.029|               9.59|2020|   10|  28|\n",
            "|     AFG|     Asia|Afghanistan|   2020-10-29|      41268|        1534|              NULL|             NULL|      18.6|       2.581|       1.337|              597.029|               9.59|2020|   10|  29|\n",
            "|     AFG|     Asia|Afghanistan|   2020-10-30|      41334|        1535|              NULL|             NULL|      18.6|       2.581|       1.337|              597.029|               9.59|2020|   10|  30|\n",
            "|     AFG|     Asia|Afghanistan|   2020-10-31|      41425|        1538|              NULL|             NULL|      18.6|       2.581|       1.337|              597.029|               9.59|2020|   10|  31|\n",
            "|     AFG|     Asia|Afghanistan|         NULL|      41501|        1538|              NULL|             NULL|      18.6|       2.581|       1.337|              597.029|               9.59|NULL| NULL|NULL|\n",
            "|     AFG|     Asia|Afghanistan|         NULL|      41633|        1544|              NULL|             NULL|      18.6|       2.581|       1.337|              597.029|               9.59|NULL| NULL|NULL|\n",
            "|     AFG|     Asia|Afghanistan|         NULL|      41728|        1547|              NULL|             NULL|      18.6|       2.581|       1.337|              597.029|               9.59|NULL| NULL|NULL|\n",
            "|     AFG|     Asia|Afghanistan|         NULL|      41814|        1551|              NULL|             NULL|      18.6|       2.581|       1.337|              597.029|               9.59|NULL| NULL|NULL|\n",
            "|     AFG|     Asia|Afghanistan|         NULL|      41935|        1557|              NULL|             NULL|      18.6|       2.581|       1.337|              597.029|               9.59|NULL| NULL|NULL|\n",
            "|     AFG|     Asia|Afghanistan|         NULL|      41975|        1557|              NULL|             NULL|      18.6|       2.581|       1.337|              597.029|               9.59|NULL| NULL|NULL|\n",
            "|     AFG|     Asia|Afghanistan|         NULL|      42033|        1559|              NULL|             NULL|      18.6|       2.581|       1.337|              597.029|               9.59|NULL| NULL|NULL|\n",
            "|     AFG|     Asia|Afghanistan|         NULL|      42159|        1565|              NULL|             NULL|      18.6|       2.581|       1.337|              597.029|               9.59|NULL| NULL|NULL|\n",
            "|     AFG|     Asia|Afghanistan|         NULL|      42297|        1577|              NULL|             NULL|      18.6|       2.581|       1.337|              597.029|               9.59|NULL| NULL|NULL|\n",
            "|     AFG|     Asia|Afghanistan|         NULL|      42463|        1580|              NULL|             NULL|      18.6|       2.581|       1.337|              597.029|               9.59|NULL| NULL|NULL|\n",
            "|     AFG|     Asia|Afghanistan|         NULL|      42609|        1584|              NULL|             NULL|      18.6|       2.581|       1.337|              597.029|               9.59|NULL| NULL|NULL|\n",
            "|     AFG|     Asia|Afghanistan|         NULL|      42795|        1594|              NULL|             NULL|      18.6|       2.581|       1.337|              597.029|               9.59|NULL| NULL|NULL|\n",
            "|     AFG|     Asia|Afghanistan|   2020-11-13|      42969|        1598|              NULL|             NULL|      18.6|       2.581|       1.337|              597.029|               9.59|2020|   11|  13|\n",
            "|     AFG|     Asia|Afghanistan|   2020-11-14|      43035|        1608|              NULL|             NULL|      18.6|       2.581|       1.337|              597.029|               9.59|2020|   11|  14|\n",
            "|     AFG|     Asia|Afghanistan|   2020-11-15|      43240|        1620|              NULL|             NULL|      18.6|       2.581|       1.337|              597.029|               9.59|2020|   11|  15|\n",
            "|     AFG|     Asia|Afghanistan|   2020-11-16|      43468|        1635|              NULL|             NULL|      18.6|       2.581|       1.337|              597.029|               9.59|2020|   11|  16|\n",
            "|     AFG|     Asia|Afghanistan|   2020-11-17|      43681|        1641|              NULL|             NULL|      18.6|       2.581|       1.337|              597.029|               9.59|2020|   11|  17|\n",
            "|     AFG|     Asia|Afghanistan|   2020-11-18|      43924|        1648|              NULL|             NULL|      18.6|       2.581|       1.337|              597.029|               9.59|2020|   11|  18|\n",
            "|     AFG|     Asia|Afghanistan|   2020-11-19|      44177|        1653|              NULL|             NULL|      18.6|       2.581|       1.337|              597.029|               9.59|2020|   11|  19|\n",
            "|     AFG|     Asia|Afghanistan|   2020-11-20|      44363|        1666|              NULL|             NULL|      18.6|       2.581|       1.337|              597.029|               9.59|2020|   11|  20|\n",
            "|     AFG|     Asia|Afghanistan|   2020-11-21|      44503|        1678|              NULL|             NULL|      18.6|       2.581|       1.337|              597.029|               9.59|2020|   11|  21|\n",
            "|     AFG|     Asia|Afghanistan|   2020-11-22|      44706|        1690|              NULL|             NULL|      18.6|       2.581|       1.337|              597.029|               9.59|2020|   11|  22|\n",
            "|     AFG|     Asia|Afghanistan|   2020-11-23|      44988|        1702|              NULL|             NULL|      18.6|       2.581|       1.337|              597.029|               9.59|2020|   11|  23|\n",
            "|     AFG|     Asia|Afghanistan|   2020-11-24|      45174|        1715|              NULL|             NULL|      18.6|       2.581|       1.337|              597.029|               9.59|2020|   11|  24|\n",
            "|     AFG|     Asia|Afghanistan|   2020-11-25|      45384|        1728|              NULL|             NULL|      18.6|       2.581|       1.337|              597.029|               9.59|2020|   11|  25|\n",
            "|     AFG|     Asia|Afghanistan|   2020-11-26|      45600|        1737|              NULL|             NULL|      18.6|       2.581|       1.337|              597.029|               9.59|2020|   11|  26|\n",
            "|     AFG|     Asia|Afghanistan|   2020-11-27|      45723|        1740|              NULL|             NULL|      18.6|       2.581|       1.337|              597.029|               9.59|2020|   11|  27|\n",
            "|     AFG|     Asia|Afghanistan|   2020-11-28|      45844|        1752|              NULL|             NULL|      18.6|       2.581|       1.337|              597.029|               9.59|2020|   11|  28|\n",
            "|     AFG|     Asia|Afghanistan|   2020-11-29|      46116|        1774|              NULL|             NULL|      18.6|       2.581|       1.337|              597.029|               9.59|2020|   11|  29|\n",
            "|     AFG|     Asia|Afghanistan|   2020-11-30|      46274|        1795|              NULL|             NULL|      18.6|       2.581|       1.337|              597.029|               9.59|2020|   11|  30|\n",
            "|     AFG|     Asia|Afghanistan|         NULL|      46516|        1822|              NULL|             NULL|      18.6|       2.581|       1.337|              597.029|               9.59|NULL| NULL|NULL|\n",
            "|     AFG|     Asia|Afghanistan|         NULL|      46718|        1841|              NULL|             NULL|      18.6|       2.581|       1.337|              597.029|               9.59|NULL| NULL|NULL|\n",
            "|     AFG|     Asia|Afghanistan|         NULL|      46837|        1846|              NULL|             NULL|      18.6|       2.581|       1.337|              597.029|               9.59|NULL| NULL|NULL|\n",
            "|     AFG|     Asia|Afghanistan|         NULL|      46837|        1846|              NULL|             NULL|      18.6|       2.581|       1.337|              597.029|               9.59|NULL| NULL|NULL|\n",
            "|     AFG|     Asia|Afghanistan|         NULL|      47072|        1864|              NULL|             NULL|      18.6|       2.581|       1.337|              597.029|               9.59|NULL| NULL|NULL|\n",
            "|     AFG|     Asia|Afghanistan|         NULL|      47306|        1874|              NULL|             NULL|      18.6|       2.581|       1.337|              597.029|               9.59|NULL| NULL|NULL|\n",
            "|     AFG|     Asia|Afghanistan|         NULL|      47516|        1900|              NULL|             NULL|      18.6|       2.581|       1.337|              597.029|               9.59|NULL| NULL|NULL|\n",
            "|     AFG|     Asia|Afghanistan|         NULL|      47716|        1906|              NULL|             NULL|      18.6|       2.581|       1.337|              597.029|               9.59|NULL| NULL|NULL|\n",
            "|     AFG|     Asia|Afghanistan|         NULL|      47851|        1919|              NULL|             NULL|      18.6|       2.581|       1.337|              597.029|               9.59|NULL| NULL|NULL|\n",
            "|     AFG|     Asia|Afghanistan|         NULL|      48053|        1935|              NULL|             NULL|      18.6|       2.581|       1.337|              597.029|               9.59|NULL| NULL|NULL|\n",
            "|     AFG|     Asia|Afghanistan|         NULL|      48116|        1945|              NULL|             NULL|      18.6|       2.581|       1.337|              597.029|               9.59|NULL| NULL|NULL|\n",
            "|     AFG|     Asia|Afghanistan|         NULL|      48229|        1956|              NULL|             NULL|      18.6|       2.581|       1.337|              597.029|               9.59|NULL| NULL|NULL|\n",
            "|     AFG|     Asia|Afghanistan|   2020-12-13|      48527|        1965|              NULL|             NULL|      18.6|       2.581|       1.337|              597.029|               9.59|2020|   12|  13|\n",
            "|     AFG|     Asia|Afghanistan|   2020-12-14|      48718|        1969|              NULL|             NULL|      18.6|       2.581|       1.337|              597.029|               9.59|2020|   12|  14|\n",
            "|     AFG|     Asia|Afghanistan|   2020-12-15|      48952|        1995|              NULL|             NULL|      18.6|       2.581|       1.337|              597.029|               9.59|2020|   12|  15|\n",
            "|     AFG|     Asia|Afghanistan|   2020-12-16|      49161|        2011|              NULL|             NULL|      18.6|       2.581|       1.337|              597.029|               9.59|2020|   12|  16|\n",
            "|     AFG|     Asia|Afghanistan|   2020-12-17|      49378|        2025|              NULL|             NULL|      18.6|       2.581|       1.337|              597.029|               9.59|2020|   12|  17|\n",
            "|     AFG|     Asia|Afghanistan|   2020-12-18|      49621|        2030|              NULL|             NULL|      18.6|       2.581|       1.337|              597.029|               9.59|2020|   12|  18|\n",
            "|     AFG|     Asia|Afghanistan|   2020-12-19|      49681|        2047|              NULL|             NULL|      18.6|       2.581|       1.337|              597.029|               9.59|2020|   12|  19|\n",
            "|     AFG|     Asia|Afghanistan|   2020-12-20|      49817|        2067|              NULL|             NULL|      18.6|       2.581|       1.337|              597.029|               9.59|2020|   12|  20|\n",
            "|     AFG|     Asia|Afghanistan|   2020-12-21|      50013|        2082|              NULL|             NULL|      18.6|       2.581|       1.337|              597.029|               9.59|2020|   12|  21|\n",
            "|     AFG|     Asia|Afghanistan|   2020-12-22|      50190|        2096|              NULL|             NULL|      18.6|       2.581|       1.337|              597.029|               9.59|2020|   12|  22|\n",
            "|     AFG|     Asia|Afghanistan|   2020-12-23|      50433|        2117|              NULL|             NULL|      18.6|       2.581|       1.337|              597.029|               9.59|2020|   12|  23|\n",
            "|     AFG|     Asia|Afghanistan|   2020-12-24|      50655|        2126|              NULL|             NULL|      18.6|       2.581|       1.337|              597.029|               9.59|2020|   12|  24|\n",
            "|     AFG|     Asia|Afghanistan|   2020-12-25|      50810|        2139|              NULL|             NULL|      18.6|       2.581|       1.337|              597.029|               9.59|2020|   12|  25|\n",
            "|     AFG|     Asia|Afghanistan|   2020-12-26|      50886|        2149|              NULL|             NULL|      18.6|       2.581|       1.337|              597.029|               9.59|2020|   12|  26|\n",
            "|     AFG|     Asia|Afghanistan|   2020-12-27|      51039|        2160|              NULL|             NULL|      18.6|       2.581|       1.337|              597.029|               9.59|2020|   12|  27|\n",
            "|     AFG|     Asia|Afghanistan|   2020-12-28|      51280|        2174|              NULL|             NULL|      18.6|       2.581|       1.337|              597.029|               9.59|2020|   12|  28|\n",
            "|     AFG|     Asia|Afghanistan|   2020-12-29|      51350|        2179|              NULL|             NULL|      18.6|       2.581|       1.337|              597.029|               9.59|2020|   12|  29|\n",
            "|     AFG|     Asia|Afghanistan|   2020-12-30|      51405|        2181|              NULL|             NULL|      18.6|       2.581|       1.337|              597.029|               9.59|2020|   12|  30|\n",
            "|     AFG|     Asia|Afghanistan|   2020-12-31|      51526|        2191|              NULL|             NULL|      18.6|       2.581|       1.337|              597.029|               9.59|2020|   12|  31|\n",
            "|     AFG|     Asia|Afghanistan|         NULL|      51526|        2191|              NULL|             NULL|      18.6|       2.581|       1.337|              597.029|               9.59|NULL| NULL|NULL|\n",
            "|     AFG|     Asia|Afghanistan|         NULL|      51526|        2191|              NULL|             NULL|      18.6|       2.581|       1.337|              597.029|               9.59|NULL| NULL|NULL|\n",
            "|     AFG|     Asia|Afghanistan|         NULL|      51526|        2191|              NULL|             NULL|      18.6|       2.581|       1.337|              597.029|               9.59|NULL| NULL|NULL|\n",
            "|     AFG|     Asia|Afghanistan|         NULL|      53011|        2237|              NULL|             NULL|      18.6|       2.581|       1.337|              597.029|               9.59|NULL| NULL|NULL|\n",
            "|     AFG|     Asia|Afghanistan|         NULL|      53105|        2244|              NULL|             NULL|      18.6|       2.581|       1.337|              597.029|               9.59|NULL| NULL|NULL|\n",
            "|     AFG|     Asia|Afghanistan|         NULL|      53105|        2244|              NULL|             NULL|      18.6|       2.581|       1.337|              597.029|               9.59|NULL| NULL|NULL|\n",
            "|     AFG|     Asia|Afghanistan|         NULL|      53207|        2253|              NULL|             NULL|      18.6|       2.581|       1.337|              597.029|               9.59|NULL| NULL|NULL|\n",
            "|     AFG|     Asia|Afghanistan|         NULL|      53332|        2257|              NULL|             NULL|      18.6|       2.581|       1.337|              597.029|               9.59|NULL| NULL|NULL|\n",
            "+--------+---------+-----------+-------------+-----------+------------+------------------+-----------------+----------+------------+------------+---------------------+-------------------+----+-----+----+\n",
            "only showing top 100 rows\n",
            "\n"
          ]
        }
      ]
    }
  ]
}