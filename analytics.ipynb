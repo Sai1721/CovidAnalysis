{
 "cells": [
  {
   "cell_type": "code",
   "execution_count": 1,
   "metadata": {},
   "outputs": [
    {
     "name": "stdout",
     "output_type": "stream",
     "text": [
      "  iso_code continent     location date_current*  total_cases  total_deaths  \\\n",
      "0      AFG      Asia  Afghanistan    10-01-2020      39285.0        1460.0   \n",
      "1      AFG      Asia  Afghanistan    10-02-2020      39290.0        1460.0   \n",
      "2      AFG      Asia  Afghanistan    10-03-2020      39297.0        1464.0   \n",
      "3      AFG      Asia  Afghanistan    10-04-2020      39341.0        1464.0   \n",
      "4      AFG      Asia  Afghanistan    10-05-2020      39422.0        1468.0   \n",
      "\n",
      "   total_vaccinations  people_vaccinated  median_age  age_65_older  \\\n",
      "0                 NaN                NaN        18.6         2.581   \n",
      "1                 NaN                NaN        18.6         2.581   \n",
      "2                 NaN                NaN        18.6         2.581   \n",
      "3                 NaN                NaN        18.6         2.581   \n",
      "4                 NaN                NaN        18.6         2.581   \n",
      "\n",
      "   age_70_older  cardiovasc_death_rate  diabetes_prevalence  \n",
      "0         1.337                597.029                 9.59  \n",
      "1         1.337                597.029                 9.59  \n",
      "2         1.337                597.029                 9.59  \n",
      "3         1.337                597.029                 9.59  \n",
      "4         1.337                597.029                 9.59  \n"
     ]
    }
   ],
   "source": [
    "import pandas as pd\n",
    "\n",
    "# Load the renamed dataset\n",
    "file_path = \"DataSheet.csv\"\n",
    "data = pd.read_csv(file_path)\n",
    "\n",
    "# Preview the data\n",
    "print(data.head())\n"
   ]
  },
  {
   "cell_type": "markdown",
   "metadata": {},
   "source": [
    "1. What is the number of people who are infected globally?\n"
   ]
  },
  {
   "cell_type": "code",
   "execution_count": 8,
   "metadata": {},
   "outputs": [
    {
     "name": "stdout",
     "output_type": "stream",
     "text": [
      "Total number of people infected globally: 16380003698.0\n"
     ]
    }
   ],
   "source": [
    "# Total number of infected people globally\n",
    "total_infected = data['total_cases'].sum()\n",
    "print(f\"Total number of people infected globally: {total_infected}\")\n"
   ]
  },
  {
   "cell_type": "markdown",
   "metadata": {},
   "source": [
    "2. How many cases are reported in a continent?"
   ]
  },
  {
   "cell_type": "code",
   "execution_count": 9,
   "metadata": {},
   "outputs": [
    {
     "name": "stdout",
     "output_type": "stream",
     "text": [
      "Total cases reported in each continent:\n",
      "continent\n",
      "Africa           2.888679e+08\n",
      "Asia             2.134990e+09\n",
      "Europe           2.155273e+09\n",
      "North America    2.176243e+09\n",
      "Oceania          3.819476e+06\n",
      "South America    1.430718e+09\n",
      "Name: total_cases, dtype: float64\n"
     ]
    }
   ],
   "source": [
    "# Total number of cases reported in each continent\n",
    "continent_cases = data.groupby('continent')['total_cases'].sum()\n",
    "print(\"Total cases reported in each continent:\")\n",
    "print(continent_cases)\n"
   ]
  },
  {
   "cell_type": "markdown",
   "metadata": {},
   "source": [
    "3. Which country has recorded the maximum number of deaths due to Covid?"
   ]
  },
  {
   "cell_type": "code",
   "execution_count": 10,
   "metadata": {},
   "outputs": [
    {
     "name": "stdout",
     "output_type": "stream",
     "text": [
      "Country with maximum deaths: World\n"
     ]
    }
   ],
   "source": [
    "# Country with maximum deaths\n",
    "max_deaths_country = data.loc[data['total_deaths'].idxmax(), 'location']\n",
    "print(f\"Country with maximum deaths: {max_deaths_country}\")\n"
   ]
  },
  {
   "cell_type": "markdown",
   "metadata": {},
   "source": [
    "4. How many people are vaccinated so far?"
   ]
  },
  {
   "cell_type": "code",
   "execution_count": 11,
   "metadata": {},
   "outputs": [
    {
     "name": "stdout",
     "output_type": "stream",
     "text": [
      "Total number of people vaccinated so far: 2462700626.0\n"
     ]
    }
   ],
   "source": [
    "# Total number of people vaccinated globally\n",
    "total_vaccinated = data['total_vaccinations'].sum()\n",
    "print(f\"Total number of people vaccinated so far: {total_vaccinated}\")\n"
   ]
  }
 ],
 "metadata": {
  "kernelspec": {
   "display_name": "base",
   "language": "python",
   "name": "python3"
  },
  "language_info": {
   "codemirror_mode": {
    "name": "ipython",
    "version": 3
   },
   "file_extension": ".py",
   "mimetype": "text/x-python",
   "name": "python",
   "nbconvert_exporter": "python",
   "pygments_lexer": "ipython3",
   "version": "3.9.13"
  }
 },
 "nbformat": 4,
 "nbformat_minor": 2
}
